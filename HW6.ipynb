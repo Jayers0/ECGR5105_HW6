{
 "cells": [
  {
   "cell_type": "markdown",
   "metadata": {},
   "source": [
    "ECGR 5105 - HW6\n",
    "Joshua Ayers\n",
    "Github:"
   ]
  },
  {
   "cell_type": "code",
   "execution_count": 1,
   "metadata": {},
   "outputs": [],
   "source": [
    "import pandas as pd\n",
    "import numpy as np\n",
    "\n",
    "from sklearn.model_selection import train_test_split\n",
    "from sklearn.preprocessing import StandardScaler\n",
    "from sklearn.linear_model import LinearRegression\n",
    "from sklearn.metrics import mean_squared_error\n",
    "from sklearn.model_selection import train_test_split\n",
    "from sklearn.preprocessing import StandardScaler\n",
    "from sklearn.compose import ColumnTransformer\n",
    "from sklearn.preprocessing import OneHotEncoder\n",
    "\n",
    "import torch\n",
    "import torch.nn as nn\n",
    "import torch.optim as optim"
   ]
  },
  {
   "cell_type": "markdown",
   "metadata": {},
   "source": [
    "Load the housing dataset and preprocess"
   ]
  },
  {
   "cell_type": "code",
   "execution_count": 2,
   "metadata": {},
   "outputs": [],
   "source": [
    "# Load the dataset\n",
    "df = pd.read_csv('Housing.csv')\n",
    "df.replace({'yes': 1, 'no': 0}, inplace=True)\n",
    "\n",
    "# Separate features and target\n",
    "X = df.drop(columns=['price'])\n",
    "y = df['price']\n",
    "\n",
    "# List of categorical columns\n",
    "categorical_cols = ['mainroad', 'guestroom', 'basement', 'hotwaterheating', 'airconditioning', 'parking', 'furnishingstatus']\n",
    "numerical_cols = X.columns.difference(categorical_cols)\n",
    "\n",
    "# Preprocessing pipeline for categorical and numerical data\n",
    "preprocessor = ColumnTransformer(\n",
    "    transformers=[\n",
    "        ('num', StandardScaler(), numerical_cols),\n",
    "        ('cat', OneHotEncoder(), categorical_cols)\n",
    "    ])\n",
    "\n",
    "# Apply preprocessing to the data\n",
    "X_processed = preprocessor.fit_transform(X)\n",
    "\n",
    "# Convert to tensors\n",
    "X_processed_tensor = torch.tensor(X_processed.astype(np.float32))\n",
    "y_tensor = torch.tensor(y.values.astype(np.float32))\n",
    "\n",
    "# Split the data into 80% training and 20% validation\n",
    "X_train_tensor, X_val_tensor, y_train_tensor, y_val_tensor = train_test_split(X_processed_tensor, y_tensor, test_size=0.2, random_state=42)\n",
    "\n",
    "# Convert y tensors to the correct shape\n",
    "y_train_tensor = y_train_tensor.view(-1, 1)\n",
    "y_val_tensor = y_val_tensor.view(-1, 1)"
   ]
  },
  {
   "cell_type": "markdown",
   "metadata": {},
   "source": [
    "Define the Neural network For problem 1 part 1"
   ]
  },
  {
   "cell_type": "code",
   "execution_count": 3,
   "metadata": {},
   "outputs": [],
   "source": [
    "# Define the neural network model with one hidden layer of size 32\n",
    "class NeuralNetwork1(nn.Module):\n",
    "    def __init__(self,hidden_layer_size = 32):\n",
    "        super(NeuralNetwork1, self).__init__()\n",
    "        self.fc1 = nn.Linear(X_train_tensor.shape[1], hidden_layer_size)\n",
    "        self.fc2 = nn.Linear(hidden_layer_size, 1)\n",
    "\n",
    "    def forward(self, x):\n",
    "        x = torch.relu(self.fc1(x))\n",
    "        x = self.fc2(x)\n",
    "        return x\n",
    "    "
   ]
  },
  {
   "cell_type": "markdown",
   "metadata": {},
   "source": [
    "declare the network and define the "
   ]
  },
  {
   "cell_type": "code",
   "execution_count": 4,
   "metadata": {},
   "outputs": [
    {
     "ename": "NameError",
     "evalue": "name 'X_train' is not defined",
     "output_type": "error",
     "traceback": [
      "\u001b[0;31m---------------------------------------------------------------------------\u001b[0m",
      "\u001b[0;31mNameError\u001b[0m                                 Traceback (most recent call last)",
      "Cell \u001b[0;32mIn[4], line 2\u001b[0m\n\u001b[1;32m      1\u001b[0m \u001b[38;5;66;03m# Initialize the model, loss function, and optimizer\u001b[39;00m\n\u001b[0;32m----> 2\u001b[0m model1 \u001b[38;5;241m=\u001b[39m \u001b[43mNeuralNetwork1\u001b[49m\u001b[43m(\u001b[49m\u001b[43m)\u001b[49m\n\u001b[1;32m      4\u001b[0m criterion \u001b[38;5;241m=\u001b[39m nn\u001b[38;5;241m.\u001b[39mMSELoss()\n\u001b[1;32m      5\u001b[0m optimizer \u001b[38;5;241m=\u001b[39m optim\u001b[38;5;241m.\u001b[39mAdam(model1\u001b[38;5;241m.\u001b[39mparameters(), lr\u001b[38;5;241m=\u001b[39m\u001b[38;5;241m0.0001\u001b[39m)\n",
      "Cell \u001b[0;32mIn[3], line 5\u001b[0m, in \u001b[0;36mNeuralNetwork1.__init__\u001b[0;34m(self, hidden_layer_size)\u001b[0m\n\u001b[1;32m      3\u001b[0m \u001b[38;5;28;01mdef\u001b[39;00m \u001b[38;5;21m__init__\u001b[39m(\u001b[38;5;28mself\u001b[39m,hidden_layer_size \u001b[38;5;241m=\u001b[39m \u001b[38;5;241m32\u001b[39m):\n\u001b[1;32m      4\u001b[0m     \u001b[38;5;28msuper\u001b[39m(NeuralNetwork1, \u001b[38;5;28mself\u001b[39m)\u001b[38;5;241m.\u001b[39m\u001b[38;5;21m__init__\u001b[39m()\n\u001b[0;32m----> 5\u001b[0m     \u001b[38;5;28mself\u001b[39m\u001b[38;5;241m.\u001b[39mfc1 \u001b[38;5;241m=\u001b[39m nn\u001b[38;5;241m.\u001b[39mLinear(\u001b[43mX_train\u001b[49m\u001b[38;5;241m.\u001b[39mshape[\u001b[38;5;241m1\u001b[39m], hidden_layer_size)\n\u001b[1;32m      6\u001b[0m     \u001b[38;5;28mself\u001b[39m\u001b[38;5;241m.\u001b[39mfc2 \u001b[38;5;241m=\u001b[39m nn\u001b[38;5;241m.\u001b[39mLinear(hidden_layer_size, \u001b[38;5;241m1\u001b[39m)\n",
      "\u001b[0;31mNameError\u001b[0m: name 'X_train' is not defined"
     ]
    }
   ],
   "source": [
    "# Initialize the model, loss function, and optimizer\n",
    "model1 = NeuralNetwork1()\n",
    "\n",
    "criterion = nn.MSELoss()\n",
    "optimizer = optim.Adam(model1.parameters(), lr=0.0001)\n",
    "\n",
    "\n",
    "# Convert data to torch tensors\n",
    "X_train_tensor = torch.tensor(X_train, dtype=torch.float32)\n",
    "y_train_tensor = torch.tensor(y_train.values, dtype=torch.float32).view(-1, 1)\n",
    "X_val_tensor = torch.tensor(X_val, dtype=torch.float32)\n",
    "y_val_tensor = torch.tensor(y_val.values, dtype=torch.float32).view(-1, 1)\n"
   ]
  },
  {
   "cell_type": "code",
   "execution_count": null,
   "metadata": {},
   "outputs": [
    {
     "name": "stdout",
     "output_type": "stream",
     "text": [
      "Epoch [100/1000], Loss: 25234788843520.0000\n",
      "Epoch [200/1000], Loss: 25234788843520.0000\n",
      "Epoch [300/1000], Loss: 25234784649216.0000\n",
      "Epoch [400/1000], Loss: 25234780454912.0000\n",
      "Epoch [500/1000], Loss: 25234774163456.0000\n",
      "Epoch [600/1000], Loss: 25234769969152.0000\n",
      "Epoch [700/1000], Loss: 25234765774848.0000\n",
      "Epoch [800/1000], Loss: 25234759483392.0000\n",
      "Epoch [900/1000], Loss: 25234746900480.0000\n",
      "Epoch [1000/1000], Loss: 25234738511872.0000\n",
      "Validation Loss: 30129933778944.0000\n"
     ]
    }
   ],
   "source": [
    "# Training loop\n",
    "num_epochs = 1000\n",
    "\n",
    "\n",
    "for epoch in range(num_epochs):\n",
    "    model1.train()\n",
    "    optimizer.zero_grad()\n",
    "    outputs = model1(X_train_tensor)\n",
    "    loss = criterion(outputs, y_train_tensor)\n",
    "    loss.backward()\n",
    "    optimizer.step()\n",
    "\n",
    "    if (epoch+1) % 100 == 0:\n",
    "        print(f'Epoch [{epoch+1}/{num_epochs}], Loss: {loss.item():.4f}')\n",
    "# Evaluate the model on the validation set\n",
    "model1.eval()\n",
    "with torch.no_grad():\n",
    "    val_outputs = model1(X_val_tensor)\n",
    "    val_loss = criterion(val_outputs, y_val_tensor)\n",
    "    print(f'Validation Loss: {val_loss.item():.4f}')\n"
   ]
  },
  {
   "cell_type": "code",
   "execution_count": null,
   "metadata": {},
   "outputs": [
    {
     "name": "stdout",
     "output_type": "stream",
     "text": [
      "Validation Loss: 30129933778944.0000\n"
     ]
    }
   ],
   "source": [
    "# Evaluate the model on the validation set\n",
    "model1.eval()\n",
    "with torch.no_grad():\n",
    "    val_outputs = model1(X_val_tensor)\n",
    "    val_loss = criterion(val_outputs, y_val_tensor)\n",
    "    print(f'Validation Loss: {val_loss.item():.4f}')\n"
   ]
  },
  {
   "cell_type": "code",
   "execution_count": null,
   "metadata": {},
   "outputs": [
    {
     "data": {
      "text/html": [
       "<style>#sk-container-id-4 {color: black;background-color: white;}#sk-container-id-4 pre{padding: 0;}#sk-container-id-4 div.sk-toggleable {background-color: white;}#sk-container-id-4 label.sk-toggleable__label {cursor: pointer;display: block;width: 100%;margin-bottom: 0;padding: 0.3em;box-sizing: border-box;text-align: center;}#sk-container-id-4 label.sk-toggleable__label-arrow:before {content: \"▸\";float: left;margin-right: 0.25em;color: #696969;}#sk-container-id-4 label.sk-toggleable__label-arrow:hover:before {color: black;}#sk-container-id-4 div.sk-estimator:hover label.sk-toggleable__label-arrow:before {color: black;}#sk-container-id-4 div.sk-toggleable__content {max-height: 0;max-width: 0;overflow: hidden;text-align: left;background-color: #f0f8ff;}#sk-container-id-4 div.sk-toggleable__content pre {margin: 0.2em;color: black;border-radius: 0.25em;background-color: #f0f8ff;}#sk-container-id-4 input.sk-toggleable__control:checked~div.sk-toggleable__content {max-height: 200px;max-width: 100%;overflow: auto;}#sk-container-id-4 input.sk-toggleable__control:checked~label.sk-toggleable__label-arrow:before {content: \"▾\";}#sk-container-id-4 div.sk-estimator input.sk-toggleable__control:checked~label.sk-toggleable__label {background-color: #d4ebff;}#sk-container-id-4 div.sk-label input.sk-toggleable__control:checked~label.sk-toggleable__label {background-color: #d4ebff;}#sk-container-id-4 input.sk-hidden--visually {border: 0;clip: rect(1px 1px 1px 1px);clip: rect(1px, 1px, 1px, 1px);height: 1px;margin: -1px;overflow: hidden;padding: 0;position: absolute;width: 1px;}#sk-container-id-4 div.sk-estimator {font-family: monospace;background-color: #f0f8ff;border: 1px dotted black;border-radius: 0.25em;box-sizing: border-box;margin-bottom: 0.5em;}#sk-container-id-4 div.sk-estimator:hover {background-color: #d4ebff;}#sk-container-id-4 div.sk-parallel-item::after {content: \"\";width: 100%;border-bottom: 1px solid gray;flex-grow: 1;}#sk-container-id-4 div.sk-label:hover label.sk-toggleable__label {background-color: #d4ebff;}#sk-container-id-4 div.sk-serial::before {content: \"\";position: absolute;border-left: 1px solid gray;box-sizing: border-box;top: 0;bottom: 0;left: 50%;z-index: 0;}#sk-container-id-4 div.sk-serial {display: flex;flex-direction: column;align-items: center;background-color: white;padding-right: 0.2em;padding-left: 0.2em;position: relative;}#sk-container-id-4 div.sk-item {position: relative;z-index: 1;}#sk-container-id-4 div.sk-parallel {display: flex;align-items: stretch;justify-content: center;background-color: white;position: relative;}#sk-container-id-4 div.sk-item::before, #sk-container-id-4 div.sk-parallel-item::before {content: \"\";position: absolute;border-left: 1px solid gray;box-sizing: border-box;top: 0;bottom: 0;left: 50%;z-index: -1;}#sk-container-id-4 div.sk-parallel-item {display: flex;flex-direction: column;z-index: 1;position: relative;background-color: white;}#sk-container-id-4 div.sk-parallel-item:first-child::after {align-self: flex-end;width: 50%;}#sk-container-id-4 div.sk-parallel-item:last-child::after {align-self: flex-start;width: 50%;}#sk-container-id-4 div.sk-parallel-item:only-child::after {width: 0;}#sk-container-id-4 div.sk-dashed-wrapped {border: 1px dashed gray;margin: 0 0.4em 0.5em 0.4em;box-sizing: border-box;padding-bottom: 0.4em;background-color: white;}#sk-container-id-4 div.sk-label label {font-family: monospace;font-weight: bold;display: inline-block;line-height: 1.2em;}#sk-container-id-4 div.sk-label-container {text-align: center;}#sk-container-id-4 div.sk-container {/* jupyter's `normalize.less` sets `[hidden] { display: none; }` but bootstrap.min.css set `[hidden] { display: none !important; }` so we also need the `!important` here to be able to override the default hidden behavior on the sphinx rendered scikit-learn.org. See: https://github.com/scikit-learn/scikit-learn/issues/21755 */display: inline-block !important;position: relative;}#sk-container-id-4 div.sk-text-repr-fallback {display: none;}</style><div id=\"sk-container-id-4\" class=\"sk-top-container\"><div class=\"sk-text-repr-fallback\"><pre>LinearRegression()</pre><b>In a Jupyter environment, please rerun this cell to show the HTML representation or trust the notebook. <br />On GitHub, the HTML representation is unable to render, please try loading this page with nbviewer.org.</b></div><div class=\"sk-container\" hidden><div class=\"sk-item\"><div class=\"sk-estimator sk-toggleable\"><input class=\"sk-toggleable__control sk-hidden--visually\" id=\"sk-estimator-id-4\" type=\"checkbox\" checked><label for=\"sk-estimator-id-4\" class=\"sk-toggleable__label sk-toggleable__label-arrow\">LinearRegression</label><div class=\"sk-toggleable__content\"><pre>LinearRegression()</pre></div></div></div></div></div>"
      ],
      "text/plain": [
       "LinearRegression()"
      ]
     },
     "execution_count": 38,
     "metadata": {},
     "output_type": "execute_result"
    }
   ],
   "source": [
    "# Train a linear regression model\n",
    "lr_model = LinearRegression()\n",
    "lr_model.fit(X_train, y_train)"
   ]
  },
  {
   "cell_type": "code",
   "execution_count": null,
   "metadata": {},
   "outputs": [
    {
     "name": "stdout",
     "output_type": "stream",
     "text": [
      "Linear Regression Validation Loss: 1739553620722.7549\n",
      "Neural Network Parameters: 769\n",
      "Linear Regression Parameters: 23\n"
     ]
    }
   ],
   "source": [
    "\n",
    "# Predict and evaluate on validation set\n",
    "y_val_pred_lr = lr_model.predict(X_val)\n",
    "lr_val_loss = mean_squared_error(y_val, y_val_pred_lr)\n",
    "print(f'Linear Regression Validation Loss: {lr_val_loss:.4f}')\n",
    "\n",
    "# Compare model complexity (number of trainable parameters)\n",
    "nn_params = sum(p.numel() for p in model1.parameters() if p.requires_grad)\n",
    "lr_params = X_train.shape[1] + 1  # Weights + Bias\n",
    "print(f'Neural Network Parameters: {nn_params}')\n",
    "print(f'Linear Regression Parameters: {lr_params}')\n"
   ]
  },
  {
   "cell_type": "code",
   "execution_count": null,
   "metadata": {},
   "outputs": [
    {
     "name": "stdout",
     "output_type": "stream",
     "text": [
      "Epoch [100/1000], Loss: 25234428133376.0000\n",
      "Epoch [200/1000], Loss: 25230036697088.0000\n",
      "Epoch [300/1000], Loss: 25215516016640.0000\n",
      "Epoch [400/1000], Loss: 25185310736384.0000\n",
      "Epoch [500/1000], Loss: 25134540783616.0000\n",
      "Epoch [600/1000], Loss: 25058934259712.0000\n",
      "Epoch [700/1000], Loss: 24954823245824.0000\n",
      "Epoch [800/1000], Loss: 24819072499712.0000\n",
      "Epoch [900/1000], Loss: 24649073164288.0000\n",
      "Epoch [1000/1000], Loss: 24442711310336.0000\n",
      "Validation Loss: 29224341602304.0000\n"
     ]
    }
   ],
   "source": [
    "# Define the neural network\n",
    "class MyModel(nn.Module):\n",
    "    def __init__(self, input_size, hidden_size1, hidden_size2, output_size):\n",
    "        super(MyModel, self).__init__()\n",
    "        self.fc1 = nn.Linear(input_size, hidden_size1)\n",
    "        self.fc2 = nn.Linear(hidden_size1, hidden_size2)\n",
    "        self.fc3 = nn.Linear(hidden_size2, output_size)\n",
    "\n",
    "    def forward(self, x):\n",
    "        x = torch.relu(self.fc1(x))\n",
    "        x = torch.relu(self.fc2(x))\n",
    "        x = self.fc3(x)\n",
    "        return x\n",
    "\n",
    "# Example model instantiation with sizes 16, 32, and 64\n",
    "input_size = X_processed.shape[1]\n",
    "hidden_size1 = 32\n",
    "hidden_size2 = 64\n",
    "output_size = 1  # For regression\n",
    "\n",
    "model2 = MyModel(input_size, hidden_size1, hidden_size2, output_size)\n",
    "\n",
    "criterion = nn.MSELoss()\n",
    "optimizer = optim.Adam(model2.parameters(), lr=0.001)\n",
    "\n",
    "num_epochs = 1000\n",
    "for epoch in range(num_epochs):\n",
    "    model2.train()\n",
    "    optimizer.zero_grad()\n",
    "    outputs = model2(X_train_tensor)\n",
    "    loss = criterion(outputs, y_train_tensor)\n",
    "    loss.backward()\n",
    "    optimizer.step()\n",
    "\n",
    "    if (epoch + 1) % 100 == 0:\n",
    "        print(f'Epoch [{epoch + 1}/{num_epochs}], Loss: {loss.item():.4f}')\n",
    "\n",
    "# Evaluate the model on the validation set\n",
    "model2.eval()\n",
    "with torch.no_grad():\n",
    "    val_outputs = model2(X_val_tensor)\n",
    "    val_loss = criterion(val_outputs, y_val_tensor)\n",
    "    print(f'Validation Loss: {val_loss.item():.4f}')"
   ]
  },
  {
   "cell_type": "code",
   "execution_count": null,
   "metadata": {},
   "outputs": [],
   "source": [
    "# Initialize the model, loss function, and optimizer\n",
    "\n"
   ]
  },
  {
   "cell_type": "code",
   "execution_count": null,
   "metadata": {},
   "outputs": [
    {
     "name": "stdout",
     "output_type": "stream",
     "text": [
      "Epoch [100/1000], Loss: 24198344867840.0000\n",
      "Epoch [200/1000], Loss: 23914812014592.0000\n",
      "Epoch [300/1000], Loss: 23591378747392.0000\n",
      "Epoch [400/1000], Loss: 23227732590592.0000\n",
      "Epoch [500/1000], Loss: 22823982596096.0000\n",
      "Epoch [600/1000], Loss: 22380634177536.0000\n",
      "Epoch [700/1000], Loss: 21898551361536.0000\n",
      "Epoch [800/1000], Loss: 21378971467776.0000\n",
      "Epoch [900/1000], Loss: 20823465263104.0000\n",
      "Epoch [1000/1000], Loss: 20233922281472.0000\n",
      "Validation Loss: 24409532268544.0000\n"
     ]
    }
   ],
   "source": [
    "num_epochs = 1000\n",
    "for epoch in range(num_epochs):\n",
    "    model2.train()\n",
    "    optimizer.zero_grad()\n",
    "    outputs = model2(X_train_tensor)\n",
    "    loss = criterion(outputs, y_train_tensor)\n",
    "    loss.backward()\n",
    "    optimizer.step()\n",
    "\n",
    "    if (epoch+1) % 100 == 0:\n",
    "        print(f'Epoch [{epoch+1}/{num_epochs}], Loss: {loss.item():.4f}')\n",
    "# Evaluate the model on the validation set\n",
    "model1.eval()\n",
    "with torch.no_grad():\n",
    "    val_outputs = model2(X_val_tensor)\n",
    "    val_loss = criterion(val_outputs, y_val_tensor)\n",
    "    print(f'Validation Loss: {val_loss.item():.4f}')"
   ]
  },
  {
   "cell_type": "code",
   "execution_count": null,
   "metadata": {},
   "outputs": [
    {
     "name": "stdout",
     "output_type": "stream",
     "text": [
      "Training single layer model...\n",
      "Epoch [100/1000], Loss: 25234763677696.0000\n",
      "Epoch [200/1000], Loss: 25234658820096.0000\n",
      "Epoch [300/1000], Loss: 25234463784960.0000\n",
      "Epoch [400/1000], Loss: 25234180669440.0000\n",
      "Epoch [500/1000], Loss: 25233809473536.0000\n",
      "Epoch [600/1000], Loss: 25233339711488.0000\n",
      "Epoch [700/1000], Loss: 25232773480448.0000\n",
      "Epoch [800/1000], Loss: 25232123363328.0000\n",
      "Epoch [900/1000], Loss: 25231395651584.0000\n",
      "Epoch [1000/1000], Loss: 25230592442368.0000\n",
      "Single Layer Model Validation Loss: 30125213089792.0000\n",
      "Training multi-layer model...\n",
      "Epoch [100/1000], Loss: 25233482317824.0000\n",
      "Epoch [200/1000], Loss: 25194280255488.0000\n",
      "Epoch [300/1000], Loss: 24962693857280.0000\n",
      "Epoch [400/1000], Loss: 24257945927680.0000\n",
      "Epoch [500/1000], Loss: 22738798379008.0000\n",
      "Epoch [600/1000], Loss: 20128127254528.0000\n",
      "Epoch [700/1000], Loss: 16393414115328.0000\n",
      "Epoch [800/1000], Loss: 11923227672576.0000\n",
      "Epoch [900/1000], Loss: 7546842644480.0000\n",
      "Epoch [1000/1000], Loss: 4204868927488.0000\n",
      "Multi Layer Model Validation Loss: 5867507810304.0000\n",
      "Single Layer Model Parameters: 769\n",
      "Multi Layer Model Parameters: 3905\n"
     ]
    }
   ],
   "source": [
    "import pandas as pd\n",
    "import torch\n",
    "import torch.nn as nn\n",
    "import torch.optim as optim\n",
    "from sklearn.model_selection import train_test_split\n",
    "from sklearn.compose import ColumnTransformer\n",
    "from sklearn.preprocessing import StandardScaler, OneHotEncoder\n",
    "import numpy as np\n",
    "\n",
    "# Load the dataset\n",
    "df = pd.read_csv('Housing.csv')\n",
    "df.replace({'yes': 1, 'no': 0}, inplace=True)\n",
    "\n",
    "# Separate features and target\n",
    "X = df.drop(columns=['price'])\n",
    "y = df['price']\n",
    "\n",
    "# List of categorical columns\n",
    "categorical_cols = ['mainroad', 'guestroom', 'basement', 'hotwaterheating', 'airconditioning', 'parking', 'furnishingstatus']\n",
    "numerical_cols = X.columns.difference(categorical_cols)\n",
    "\n",
    "# Preprocessing pipeline for categorical and numerical data\n",
    "preprocessor = ColumnTransformer(\n",
    "    transformers=[\n",
    "        ('num', StandardScaler(), numerical_cols),\n",
    "        ('cat', OneHotEncoder(), categorical_cols)\n",
    "    ])\n",
    "\n",
    "# Apply preprocessing to the data\n",
    "X_processed = preprocessor.fit_transform(X)\n",
    "\n",
    "# Convert to tensors\n",
    "X_processed_tensor = torch.tensor(X_processed.astype(np.float32))\n",
    "y_tensor = torch.tensor(y.values.astype(np.float32)).view(-1, 1)\n",
    "\n",
    "# Split the data into 80% training and 20% validation\n",
    "X_train_tensor, X_val_tensor, y_train_tensor, y_val_tensor = train_test_split(X_processed_tensor, y_tensor, test_size=0.2, random_state=42)\n",
    "\n",
    "# Define the neural network with one hidden layer of size 32\n",
    "class SingleLayerNN(nn.Module):\n",
    "    def __init__(self, input_size, hidden_size, output_size):\n",
    "        super(SingleLayerNN, self).__init__()\n",
    "        self.fc1 = nn.Linear(input_size, hidden_size)\n",
    "        self.fc2 = nn.Linear(hidden_size, output_size)\n",
    "\n",
    "    def forward(self, x):\n",
    "        x = torch.relu(self.fc1(x))\n",
    "        x = self.fc2(x)\n",
    "        return x\n",
    "\n",
    "# Define the neural network with three hidden layers of sizes 32, 64, and 16\n",
    "class MultiLayerNN(nn.Module):\n",
    "    def __init__(self, input_size, hidden_size1, hidden_size2, hidden_size3, output_size):\n",
    "        super(MultiLayerNN, self).__init__()\n",
    "        self.fc1 = nn.Linear(input_size, hidden_size1)\n",
    "        self.fc2 = nn.Linear(hidden_size1, hidden_size2)\n",
    "        self.fc3 = nn.Linear(hidden_size2, hidden_size3)\n",
    "        self.fc4 = nn.Linear(hidden_size3, output_size)\n",
    "\n",
    "    def forward(self, x):\n",
    "        x = torch.relu(self.fc1(x))\n",
    "        x = torch.relu(self.fc2(x))\n",
    "        x = torch.relu(self.fc3(x))\n",
    "        x = self.fc4(x)\n",
    "        return x\n",
    "\n",
    "# Initialize models\n",
    "input_size = X_processed.shape[1]\n",
    "output_size = 1\n",
    "\n",
    "single_layer_model = SingleLayerNN(input_size, 32, output_size)\n",
    "multi_layer_model = MultiLayerNN(input_size, 32, 64, 16, output_size)\n",
    "\n",
    "# Define loss function and optimizer\n",
    "criterion = nn.MSELoss()\n",
    "single_layer_optimizer = optim.Adam(single_layer_model.parameters(), lr=0.001)\n",
    "multi_layer_optimizer = optim.Adam(multi_layer_model.parameters(), lr=0.001)\n",
    "\n",
    "# Training function\n",
    "def train_model(model, optimizer, X_train, y_train, num_epochs=1000):\n",
    "    for epoch in range(num_epochs):\n",
    "        model.train()\n",
    "        optimizer.zero_grad()\n",
    "        outputs = model(X_train)\n",
    "        loss = criterion(outputs, y_train)\n",
    "        loss.backward()\n",
    "        optimizer.step()\n",
    "\n",
    "        if (epoch + 1) % 100 == 0:\n",
    "            print(f'Epoch [{epoch + 1}/{num_epochs}], Loss: {loss.item():.4f}')\n",
    "\n",
    "# Train single layer model\n",
    "print(\"Training single layer model...\")\n",
    "train_model(single_layer_model, single_layer_optimizer, X_train_tensor, y_train_tensor)\n",
    "\n",
    "# Evaluate single layer model\n",
    "single_layer_model.eval()\n",
    "with torch.no_grad():\n",
    "    single_val_outputs = single_layer_model(X_val_tensor)\n",
    "    single_val_loss = criterion(single_val_outputs, y_val_tensor)\n",
    "    print(f'Single Layer Model Validation Loss: {single_val_loss.item():.4f}')\n",
    "\n",
    "# Train multi-layer model\n",
    "print(\"Training multi-layer model...\")\n",
    "train_model(multi_layer_model, multi_layer_optimizer, X_train_tensor, y_train_tensor)\n",
    "\n",
    "# Evaluate multi-layer model\n",
    "multi_layer_model.eval()\n",
    "with torch.no_grad():\n",
    "    multi_val_outputs = multi_layer_model(X_val_tensor)\n",
    "    multi_val_loss = criterion(multi_val_outputs, y_val_tensor)\n",
    "    print(f'Multi Layer Model Validation Loss: {multi_val_loss.item():.4f}')\n",
    "\n",
    "# Compare model complexity\n",
    "def count_parameters(model):\n",
    "    return sum(p.numel() for p in model.parameters() if p.requires_grad)\n",
    "\n",
    "single_layer_params = count_parameters(single_layer_model)\n",
    "multi_layer_params = count_parameters(multi_layer_model)\n",
    "\n",
    "print(f'Single Layer Model Parameters: {single_layer_params}')\n",
    "print(f'Multi Layer Model Parameters: {multi_layer_params}')\n"
   ]
  }
 ],
 "metadata": {
  "kernelspec": {
   "display_name": "Python 3",
   "language": "python",
   "name": "python3"
  },
  "language_info": {
   "codemirror_mode": {
    "name": "ipython",
    "version": 3
   },
   "file_extension": ".py",
   "mimetype": "text/x-python",
   "name": "python",
   "nbconvert_exporter": "python",
   "pygments_lexer": "ipython3",
   "version": "3.10.12"
  }
 },
 "nbformat": 4,
 "nbformat_minor": 2
}
